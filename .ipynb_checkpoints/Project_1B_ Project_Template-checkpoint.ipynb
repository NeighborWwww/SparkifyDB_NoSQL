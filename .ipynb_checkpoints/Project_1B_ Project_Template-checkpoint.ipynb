{
 "cells": [
  {
   "cell_type": "markdown",
   "metadata": {
    "editable": true
   },
   "source": [
    "# Part I. ETL Pipeline for Pre-Processing the Files"
   ]
  },
  {
   "cell_type": "markdown",
   "metadata": {
    "editable": true
   },
   "source": [
    "## PLEASE RUN THE FOLLOWING CODE FOR PRE-PROCESSING THE FILES"
   ]
  },
  {
   "cell_type": "markdown",
   "metadata": {
    "editable": true
   },
   "source": [
    "#### Import Python packages "
   ]
  },
  {
   "cell_type": "code",
   "execution_count": 46,
   "metadata": {
    "editable": true
   },
   "outputs": [],
   "source": [
    "# Import Python packages \n",
    "import pandas as pd\n",
    "import cassandra\n",
    "import re\n",
    "import os\n",
    "import glob\n",
    "import numpy as np\n",
    "import json\n",
    "import csv"
   ]
  },
  {
   "cell_type": "markdown",
   "metadata": {
    "editable": true
   },
   "source": [
    "#### Creating list of filepaths to process original event csv data files"
   ]
  },
  {
   "cell_type": "code",
   "execution_count": 47,
   "metadata": {
    "editable": true
   },
   "outputs": [
    {
     "name": "stdout",
     "output_type": "stream",
     "text": [
      "/home/workspace\n",
      "['/home/workspace/event_data/2018-11-27-events.csv', '/home/workspace/event_data/2018-11-04-events.csv', '/home/workspace/event_data/2018-11-07-events.csv', '/home/workspace/event_data/2018-11-09-events.csv', '/home/workspace/event_data/2018-11-19-events.csv', '/home/workspace/event_data/2018-11-05-events.csv', '/home/workspace/event_data/2018-11-22-events.csv', '/home/workspace/event_data/2018-11-16-events.csv', '/home/workspace/event_data/2018-11-26-events.csv', '/home/workspace/event_data/2018-11-24-events.csv', '/home/workspace/event_data/2018-11-29-events.csv', '/home/workspace/event_data/2018-11-15-events.csv', '/home/workspace/event_data/2018-11-20-events.csv', '/home/workspace/event_data/2018-11-06-events.csv', '/home/workspace/event_data/2018-11-18-events.csv', '/home/workspace/event_data/2018-11-21-events.csv', '/home/workspace/event_data/2018-11-10-events.csv', '/home/workspace/event_data/2018-11-23-events.csv', '/home/workspace/event_data/2018-11-02-events.csv', '/home/workspace/event_data/2018-11-28-events.csv', '/home/workspace/event_data/2018-11-03-events.csv', '/home/workspace/event_data/2018-11-13-events.csv', '/home/workspace/event_data/2018-11-30-events.csv', '/home/workspace/event_data/2018-11-12-events.csv', '/home/workspace/event_data/2018-11-01-events.csv', '/home/workspace/event_data/2018-11-14-events.csv', '/home/workspace/event_data/2018-11-25-events.csv', '/home/workspace/event_data/2018-11-08-events.csv', '/home/workspace/event_data/2018-11-17-events.csv', '/home/workspace/event_data/2018-11-11-events.csv']\n",
      "['/home/workspace/event_data/.ipynb_checkpoints/2018-11-03-events-checkpoint.csv', '/home/workspace/event_data/.ipynb_checkpoints/2018-11-02-events-checkpoint.csv', '/home/workspace/event_data/.ipynb_checkpoints/2018-11-01-events-checkpoint.csv']\n"
     ]
    }
   ],
   "source": [
    "# checking your current working directory\n",
    "print(os.getcwd())\n",
    "\n",
    "# Get your current folder and subfolder event data\n",
    "filepath = os.getcwd() + '/event_data'\n",
    "\n",
    "# Create a for loop to create a list of files and collect each filepath\n",
    "for root, dirs, files in os.walk(filepath):\n",
    "    \n",
    "# join the file path and roots with the subdirectories using glob\n",
    "    file_path_list = glob.glob(os.path.join(root,'*'))\n",
    "    print(file_path_list)"
   ]
  },
  {
   "cell_type": "markdown",
   "metadata": {
    "editable": true
   },
   "source": [
    "#### Processing the files to create the data file csv that will be used for Apache Casssandra tables"
   ]
  },
  {
   "cell_type": "code",
   "execution_count": 48,
   "metadata": {
    "editable": true
   },
   "outputs": [
    {
     "name": "stdout",
     "output_type": "stream",
     "text": [
      "297\n"
     ]
    }
   ],
   "source": [
    "# initiating an empty list of rows that will be generated from each file\n",
    "full_data_rows_list = [] \n",
    "    \n",
    "# for every filepath in the file path list \n",
    "for f in file_path_list:\n",
    "\n",
    "# reading csv file \n",
    "    with open(f, 'r', encoding = 'utf8', newline='') as csvfile: \n",
    "        # creating a csv reader object \n",
    "        csvreader = csv.reader(csvfile) \n",
    "        next(csvreader)\n",
    "        \n",
    " # extracting each data row one by one and append it        \n",
    "        for line in csvreader:\n",
    "            #print(line)\n",
    "            full_data_rows_list.append(line) \n",
    "            \n",
    "# uncomment the code below if you would like to get total number of rows \n",
    "print(len(full_data_rows_list))\n",
    "# uncomment the code below if you would like to check to see what the list of event data rows will look like\n",
    "#print(full_data_rows_list)\n",
    "\n",
    "# creating a smaller event data csv file called event_datafile_full csv that will be used to insert data into the \\\n",
    "# Apache Cassandra tables\n",
    "csv.register_dialect('myDialect', quoting=csv.QUOTE_ALL, skipinitialspace=True)\n",
    "\n",
    "with open('event_datafile_new.csv', 'w', encoding = 'utf8', newline='') as f:\n",
    "    writer = csv.writer(f, dialect='myDialect')\n",
    "    writer.writerow(['artist','firstName','gender','itemInSession','lastName','length',\\\n",
    "                'level','location','sessionId','song','userId'])\n",
    "    for row in full_data_rows_list:\n",
    "        if (row[0] == ''):\n",
    "            continue\n",
    "        writer.writerow((row[0], row[2], row[3], row[4], row[5], row[6], row[7], row[8], row[12], row[13], row[16]))\n"
   ]
  },
  {
   "cell_type": "code",
   "execution_count": 49,
   "metadata": {
    "editable": true
   },
   "outputs": [
    {
     "name": "stdout",
     "output_type": "stream",
     "text": [
      "267\n"
     ]
    }
   ],
   "source": [
    "# check the number of rows in your csv file\n",
    "with open('event_datafile_new.csv', 'r', encoding = 'utf8') as f:\n",
    "    print(sum(1 for line in f))"
   ]
  },
  {
   "cell_type": "markdown",
   "metadata": {
    "editable": true
   },
   "source": [
    "# Part II. Complete the Apache Cassandra coding portion of your project. \n",
    "\n",
    "## Now you are ready to work with the CSV file titled <font color=red>event_datafile_new.csv</font>, located within the Workspace directory.  The event_datafile_new.csv contains the following columns: \n",
    "- artist \n",
    "- firstName of user\n",
    "- gender of user\n",
    "- item number in session\n",
    "- last name of user\n",
    "- length of the song\n",
    "- level (paid or free song)\n",
    "- location of the user\n",
    "- sessionId\n",
    "- song title\n",
    "- userId\n",
    "\n",
    "The image below is a screenshot of what the denormalized data should appear like in the <font color=red>**event_datafile_new.csv**</font> after the code above is run:<br>\n",
    "\n",
    "<img src=\"images/image_event_datafile_new.jpg\">"
   ]
  },
  {
   "cell_type": "markdown",
   "metadata": {
    "editable": true
   },
   "source": [
    "## Begin writing your Apache Cassandra code in the cells below"
   ]
  },
  {
   "cell_type": "markdown",
   "metadata": {
    "editable": true
   },
   "source": [
    "#### Creating a Cluster"
   ]
  },
  {
   "cell_type": "code",
   "execution_count": 5,
   "metadata": {
    "editable": true
   },
   "outputs": [],
   "source": [
    "# This should make a connection to a Cassandra instance your local machine \n",
    "# (127.0.0.1)\n",
    "\n",
    "from cassandra.cluster import Cluster\n",
    "cluster = Cluster(['127.0.0.1'])\n",
    "\n",
    "# To establish connection and begin executing queries, need a session\n",
    "session = cluster.connect()"
   ]
  },
  {
   "cell_type": "markdown",
   "metadata": {
    "editable": true
   },
   "source": [
    "#### Create Keyspace"
   ]
  },
  {
   "cell_type": "code",
   "execution_count": 50,
   "metadata": {
    "editable": true
   },
   "outputs": [],
   "source": [
    "# TO-DO: Create a Keyspace \n",
    "try:\n",
    "    session.execute(\"\"\"CREATE KEYSPACE IF NOT EXISTS sparkify \n",
    "    WITH REPLICATION = \n",
    "    {'class' : 'SimpleStrategy', 'replication_factor' : 1}\"\"\")\n",
    "    \n",
    "except Exception as e:\n",
    "    print(\"error\")\n"
   ]
  },
  {
   "cell_type": "markdown",
   "metadata": {
    "editable": true
   },
   "source": [
    "#### Set Keyspace"
   ]
  },
  {
   "cell_type": "code",
   "execution_count": 51,
   "metadata": {
    "editable": true
   },
   "outputs": [],
   "source": [
    "# TO-DO: Set KEYSPACE to the keyspace specified above\n",
    "session.set_keyspace('sparkify')\n"
   ]
  },
  {
   "cell_type": "markdown",
   "metadata": {
    "editable": true
   },
   "source": [
    "### Now we need to create tables to run the following queries. Remember, with Apache Cassandra you model the database tables on the queries you want to run."
   ]
  },
  {
   "cell_type": "markdown",
   "metadata": {
    "editable": true
   },
   "source": [
    "## Create queries to ask the following three questions of the data\n",
    "\n",
    "### 1. Give me the artist, song title and song's length in the music app history that was heard during  sessionId = 338, and itemInSession  = 4\n",
    "\n",
    "\n",
    "### 2. Give me only the following: name of artist, song (sorted by itemInSession) and user (first and last name) for userid = 10, sessionid = 182\n",
    "    \n",
    "\n",
    "### 3. Give me every user name (first and last) in my music app history who listened to the song 'All Hands Against His Own'\n",
    "\n",
    "\n"
   ]
  },
  {
   "cell_type": "code",
   "execution_count": 52,
   "metadata": {
    "editable": true
   },
   "outputs": [],
   "source": [
    "## TO-DO: Query 1:  Give me the artist, song title and song's length in the music app history that was heard during \\\n",
    "## sessionId = 338, and itemInSession = 4\n",
    "create1 = \"CREATE TABLE IF NOT EXISTS q1 \"\n",
    "createquery1 = create1 + \"(artist text, firstName text, song text, length text, sessionId text, itemInSession text, PRIMARY KEY (sessionId, itemInSession))\"\n",
    "try:\n",
    "    session.execute(createquery1)\n",
    "except Exception as e:\n",
    "    print(\"False to create the first table\")"
   ]
  },
  {
   "cell_type": "code",
   "execution_count": 53,
   "metadata": {
    "editable": true
   },
   "outputs": [
    {
     "name": "stdout",
     "output_type": "stream",
     "text": [
      "['Mynt', 'Celeste', 'F', '2', 'Williams', '166.94812', 'free', 'Klamath Falls, OR', '52', 'Playa Haters', '53']\n",
      "['Taylor Swift', 'Celeste', 'F', '3', 'Williams', '230.47791', 'free', 'Klamath Falls, OR', '52', 'You Belong With Me', '53']\n",
      "['Amy Winehouse', 'Celeste', 'F', '4', 'Williams', '229.85098', 'free', 'Klamath Falls, OR', '52', 'Valerie', '53']\n",
      "['Jimmy Eat World', 'Celeste', 'F', '5', 'Williams', '285.83138', 'free', 'Klamath Falls, OR', '52', 'Dizzy', '53']\n",
      "['Maldita Nerea', 'Anabelle', 'F', '0', 'Simpson', '241.162', 'free', 'Philadelphia-Camden-Wilmington, PA-NJ-DE-MD', '158', 'Supelicula', '69']\n",
      "['Fluke', 'Connar', 'M', '0', 'Moreno', '478.92853', 'free', 'Houston-The Woodlands-Sugar Land, TX', '168', 'Bermuda', '62']\n",
      "['Habib KoitÃ\\x83Â©', 'Jayden', 'M', '0', 'Fox', '285.1522', 'free', 'New Orleans-Metairie, LA', '185', 'Din Din Wo', '101']\n",
      "['The Kooks', 'Sara', 'F', '0', 'Johnson', '132.25751', 'paid', 'Winston-Salem, NC', '152', \"Eddie's Gun\", '95']\n",
      "['Blues Traveler', 'Sara', 'F', '1', 'Johnson', '290.24608', 'paid', 'Winston-Salem, NC', '152', 'Hook', '95']\n",
      "['Coldplay', 'Sara', 'F', '2', 'Johnson', '298.762', 'paid', 'Winston-Salem, NC', '152', 'Shiver', '95']\n",
      "['Tom Petty And The Heartbreakers', 'Sara', 'F', '3', 'Johnson', '183.01342', 'paid', 'Winston-Salem, NC', '152', 'The Wild One_ Forever', '95']\n",
      "['Girl Talk', 'Sara', 'F', '4', 'Johnson', '173.24363', 'paid', 'Winston-Salem, NC', '152', 'Give and Go', '95']\n",
      "['Florence + The Machine', 'Sara', 'F', '5', 'Johnson', '258.55955', 'paid', 'Winston-Salem, NC', '152', 'Cosmic Love', '95']\n",
      "['Three Drives', 'Sara', 'F', '6', 'Johnson', '411.6371', 'paid', 'Winston-Salem, NC', '152', 'Greece 2000', '95']\n",
      "['Jonas Brothers', 'Sara', 'F', '7', 'Johnson', '192.36526', 'paid', 'Winston-Salem, NC', '152', 'Sorry', '95']\n",
      "['Tevin Campbell', 'Sara', 'F', '8', 'Johnson', '293.04118', 'paid', 'Winston-Salem, NC', '152', 'Round And Round (Soul Mix Edit)', '95']\n",
      "['Sting', 'Sara', 'F', '9', 'Johnson', '257.12281', 'paid', 'Winston-Salem, NC', '152', 'Windmills Of Your Mind', '95']\n",
      "['The Champs', 'Sara', 'F', '10', 'Johnson', '132.0224', 'paid', 'Winston-Salem, NC', '152', 'Tequila', '95']\n",
      "['RÃ\\x83Â¶yksopp', 'Sara', 'F', '11', 'Johnson', '214.93506', 'paid', 'Winston-Salem, NC', '152', 'Poor Leno Jakatta Radio Mix', '95']\n",
      "['Avenged Sevenfold', 'Sara', 'F', '12', 'Johnson', '312.11057', 'paid', 'Winston-Salem, NC', '152', 'Bat Country (Album Version)', '95']\n",
      "['Sam Cooke', 'Sara', 'F', '13', 'Johnson', '122.04363', 'paid', 'Winston-Salem, NC', '152', \"Ain't Misbehavin\", '95']\n",
      "['Apulanta', 'Sara', 'F', '14', 'Johnson', '219.53261', 'paid', 'Winston-Salem, NC', '152', 'Hallaa', '95']\n",
      "['Era', 'Sara', 'F', '15', 'Johnson', '200.56771', 'paid', 'Winston-Salem, NC', '152', 'Cathar Rhythm', '95']\n",
      "['Klaus Badelt', 'Sylvie', 'F', '1', 'Cruz', '128.62649', 'free', 'Washington-Arlington-Alexandria, DC-VA-MD-WV', '210', 'Moonlight Serenade', '10']\n",
      "['Parov Stelar', 'Sara', 'F', '16', 'Johnson', '281.5473', 'paid', 'Winston-Salem, NC', '152', 'KissKiss', '95']\n",
      "['Florence + The Machine', 'Lily', 'F', '0', 'Koch', '290.48118', 'paid', 'Chicago-Naperville-Elgin, IL-IN-WI', '199', 'Rabbit Heart (Raise It Up)', '15']\n",
      "['De La Soul', 'Sara', 'F', '17', 'Johnson', '221.72689', 'paid', 'Winston-Salem, NC', '152', 'Me_ Myself & I', '95']\n",
      "['Lil Wayne / T-Pain', 'Sara', 'F', '18', 'Johnson', '244.58404', 'paid', 'Winston-Salem, NC', '152', 'Got Money', '95']\n",
      "['Cher', 'Lily', 'F', '1', 'Koch', '167.41832', 'paid', 'Chicago-Naperville-Elgin, IL-IN-WI', '199', 'Milord', '15']\n",
      "['Edge Of Dawn', 'Lily', 'F', '2', 'Koch', '253.72689', 'paid', 'Chicago-Naperville-Elgin, IL-IN-WI', '199', 'Losing Ground', '15']\n",
      "['The Black Keys', 'Sara', 'F', '19', 'Johnson', '223.84281', 'paid', 'Winston-Salem, NC', '152', 'Elevator', '95']\n",
      "['Smokie Norful', 'Lily', 'F', '3', 'Koch', '337.84118', 'paid', 'Chicago-Naperville-Elgin, IL-IN-WI', '199', 'I Need You Now (Build A Bridge Version)', '15']\n",
      "['Adam Lambert', 'Sara', 'F', '20', 'Johnson', '227.39546', 'paid', 'Winston-Salem, NC', '152', 'Whataya Want From Me', '95']\n",
      "['Pulp', 'Sara', 'F', '21', 'Johnson', '208.95302', 'paid', 'Winston-Salem, NC', '152', 'Little Girl (With Blue Eyes)', '95']\n",
      "['Alliance Ethnik', 'Lily', 'F', '4', 'Koch', '265.76934', 'paid', 'Chicago-Naperville-Elgin, IL-IN-WI', '199', 'Creil City', '15']\n",
      "['Tricky', 'Sara', 'F', '22', 'Johnson', '212.79302', 'paid', 'Winston-Salem, NC', '152', 'Ponderosa', '95']\n",
      "['John Butler Trio', 'Lily', 'F', '5', 'Koch', '223.68608', 'paid', 'Chicago-Naperville-Elgin, IL-IN-WI', '199', 'Betterman (full-length/album version)', '15']\n",
      "['Culture Club', 'Sara', 'F', '23', 'Johnson', '282.48771', 'paid', 'Winston-Salem, NC', '152', 'Believe (Demo)', '95']\n",
      "['The Temper Trap', 'Lily', 'F', '6', 'Koch', '192.67873', 'paid', 'Chicago-Naperville-Elgin, IL-IN-WI', '199', 'Fader', '15']\n",
      "['La Mosca Tse-Tse', 'Sara', 'F', '24', 'Johnson', '195.082', 'paid', 'Winston-Salem, NC', '152', 'Patadas En El Corazon', '95']\n",
      "['Cute Is What We Aim For', 'Lily', 'F', '7', 'Koch', '201.22077', 'paid', 'Chicago-Naperville-Elgin, IL-IN-WI', '199', 'Finger Twist & Split (Album Version)', '15']\n",
      "['Jack Johnson', 'Sara', 'F', '25', 'Johnson', '236.72118', 'paid', 'Winston-Salem, NC', '152', 'Bubble Toes', '95']\n",
      "['Siriusmo', 'Lily', 'F', '8', 'Koch', '272.61342', 'paid', 'Chicago-Naperville-Elgin, IL-IN-WI', '199', 'Simple', '15']\n",
      "['Creedence Clearwater Revival', 'Sara', 'F', '26', 'Johnson', '312.89424', 'paid', 'Winston-Salem, NC', '152', \"Feelin' Blue\", '95']\n",
      "['Alberto Plaza', 'Lily', 'F', '9', 'Koch', '271.3073', 'paid', 'Chicago-Naperville-Elgin, IL-IN-WI', '199', 'No Seas Cruel (vivo)', '15']\n",
      "['Brand New', 'Sara', 'F', '27', 'Johnson', '188.49914', 'paid', 'Winston-Salem, NC', '152', 'Not The Sun', '95']\n",
      "['Sean Lennon', 'Lily', 'F', '10', 'Koch', '202.97098', 'paid', 'Chicago-Naperville-Elgin, IL-IN-WI', '199', 'Into The Sun', '15']\n",
      "['K-OS', 'Sara', 'F', '28', 'Johnson', '211.33016', 'paid', 'Winston-Salem, NC', '152', 'EMCEE Murdah', '95']\n",
      "['Nana Caymmi', 'Lily', 'F', '11', 'Koch', '251.0624', 'paid', 'Chicago-Naperville-Elgin, IL-IN-WI', '199', 'Acercate Mas (2000 Digital Remaster)', '15']\n",
      "['Casino Versus Japan', 'Sara', 'F', '29', 'Johnson', '86.30812', 'paid', 'Winston-Salem, NC', '152', 'Moonlupe', '95']\n",
      "['the bird and the bee', 'Sara', 'F', '30', 'Johnson', '281.23383', 'paid', 'Winston-Salem, NC', '152', 'Ray Gun', '95']\n",
      "['Skyforger', 'Lily', 'F', '12', 'Koch', '38.94812', 'paid', 'Chicago-Naperville-Elgin, IL-IN-WI', '199', \"In the Yard of the Father's Son\", '15']\n",
      "['Bryan Ferry', 'Lily', 'F', '13', 'Koch', '265.87383', 'paid', 'Chicago-Naperville-Elgin, IL-IN-WI', '199', 'Slave To Love (1999 Digital Remaster)', '15']\n",
      "['The Black Keys', 'Sara', 'F', '31', 'Johnson', '196.91057', 'paid', 'Winston-Salem, NC', '152', 'All Hands Against His Own', '95']\n",
      "['Foxy Shazam', 'Lily', 'F', '14', 'Koch', '201.74322', 'paid', 'Chicago-Naperville-Elgin, IL-IN-WI', '199', 'Wanna-be Angel (Album Version)', '15']\n",
      "['The Ruts', 'Sara', 'F', '32', 'Johnson', '338.96444', 'paid', 'Winston-Salem, NC', '152', 'West One (Shine On Me)', '95']\n",
      "[\"Old 97's\", 'Lily', 'F', '15', 'Koch', '231.28771', 'paid', 'Chicago-Naperville-Elgin, IL-IN-WI', '199', 'Victoria (LP Version)', '15']\n",
      "['Lonnie Gordon', 'Lily', 'F', '16', 'Koch', '181.21098', 'paid', 'Chicago-Naperville-Elgin, IL-IN-WI', '199', 'Catch You Baby (Steve Pitron & Max Sanna Radio Edit)', '15']\n",
      "['Bon Iver', 'Sara', 'F', '33', 'Johnson', '220.70812', 'paid', 'Winston-Salem, NC', '152', 'For Emma', '95']\n",
      "['Florence + The Machine', 'Lily', 'F', '17', 'Koch', '219.66322', 'paid', 'Chicago-Naperville-Elgin, IL-IN-WI', '199', 'Dog Days Are Over (Radio Edit)', '15']\n",
      "['Glen Washington', 'Sara', 'F', '34', 'Johnson', '193.82812', 'paid', 'Winston-Salem, NC', '152', 'One Of These Days', '95']\n",
      "['Mad Cobra', 'Lily', 'F', '18', 'Koch', '230.68689', 'paid', 'Chicago-Naperville-Elgin, IL-IN-WI', '199', 'Flex', '15']\n",
      "['Dropout Year', 'Sara', 'F', '35', 'Johnson', '227.36934', 'paid', 'Winston-Salem, NC', '152', 'This Notebook', '95']\n",
      "['Flogging Molly', 'Lily', 'F', '19', 'Koch', '260.75383', 'paid', 'Chicago-Naperville-Elgin, IL-IN-WI', '199', 'Punch Drunk Grinning Soul', '15']\n",
      "['Young Rebel Set', 'Sara', 'F', '36', 'Johnson', '248.55465', 'paid', 'Winston-Salem, NC', '152', 'If I Was', '95']\n",
      "['Sneaker Pimps', 'Lily', 'F', '20', 'Koch', '260.91057', 'paid', 'Chicago-Naperville-Elgin, IL-IN-WI', '199', 'Spin Spin Sugar', '15']\n",
      "['Righteous Brothers', 'Sara', 'F', '37', 'Johnson', '215.90159', 'paid', 'Winston-Salem, NC', '152', 'Unchained Melody', '95']\n",
      "['Me First And The Gimme Gimmes', 'Sara', 'F', '38', 'Johnson', '64.39138', 'paid', 'Winston-Salem, NC', '152', \"Jonny's Blessing\", '95']\n",
      "['Texas In July', 'Lily', 'F', '21', 'Koch', '190.69342', 'paid', 'Chicago-Naperville-Elgin, IL-IN-WI', '199', 'Aurora', '15']\n",
      "['Alice In Chains', 'Sara', 'F', '39', 'Johnson', '230.60853', 'paid', 'Winston-Salem, NC', '152', 'God Smack', '95']\n",
      "['10 Years', 'Lily', 'F', '22', 'Koch', '229.95546', 'paid', 'Chicago-Naperville-Elgin, IL-IN-WI', '199', 'Wasteland', '15']\n",
      "['Juanes', 'Lily', 'F', '23', 'Koch', '233.40363', 'paid', 'Chicago-Naperville-Elgin, IL-IN-WI', '199', 'No Siento Penas', '15']\n",
      "['Cat Stevens', 'Sara', 'F', '43', 'Johnson', '200.202', 'paid', 'Winston-Salem, NC', '152', 'Wild World', '95']\n",
      "['Passion Pit', 'Lily', 'F', '24', 'Koch', '174.75873', 'paid', 'Chicago-Naperville-Elgin, IL-IN-WI', '199', 'Sleepyhead', '15']\n",
      "['The Temper Trap', 'Sara', 'F', '44', 'Johnson', '192.67873', 'paid', 'Winston-Salem, NC', '152', 'Fader', '95']\n",
      "['OneRepublic', 'Lily', 'F', '25', 'Koch', '224.67873', 'paid', 'Chicago-Naperville-Elgin, IL-IN-WI', '199', 'Secrets', '15']\n",
      "['Diplo', 'Sara', 'F', '45', 'Johnson', '96.86159', 'paid', 'Winston-Salem, NC', '152', 'Florida', '95']\n",
      "['Afro Celt Sound System', 'Sara', 'F', '46', 'Johnson', '425.01179', 'paid', 'Winston-Salem, NC', '152', 'Even In My Dreams', '95']\n",
      "['PeterLicht', 'Lily', 'F', '26', 'Koch', '306.80771', 'paid', 'Chicago-Naperville-Elgin, IL-IN-WI', '199', 'Heiterkeit', '15']\n",
      "['M.A. Numminen', 'Sara', 'F', '47', 'Johnson', '166.55628', 'paid', 'Winston-Salem, NC', '152', 'TULENLIEKKI', '95']\n",
      "['Limp Bizkit', 'Sara', 'F', '49', 'Johnson', '214.5171', 'paid', 'Winston-Salem, NC', '152', \"Rollin' (Air Raid Vehicle)\", '95']\n",
      "['Downhere', 'Sara', 'F', '50', 'Johnson', '230.71302', 'paid', 'Winston-Salem, NC', '152', 'In America (Album Version)', '95']\n",
      "['Roots Manuva', 'Sara', 'F', '51', 'Johnson', '233.92608', 'paid', 'Winston-Salem, NC', '152', 'No Love', '95']\n",
      "['Lykke Li', 'Sara', 'F', '52', 'Johnson', '162.19383', 'paid', 'Winston-Salem, NC', '152', 'Let It Fall', '95']\n",
      "['Plan B', 'Sara', 'F', '53', 'Johnson', '222.82404', 'paid', 'Winston-Salem, NC', '152', 'Free', '95']\n",
      "['Octopus Project', 'Sara', 'F', '54', 'Johnson', '498.33751', 'paid', 'Winston-Salem, NC', '152', 'Hypnopaedia', '95']\n",
      "['OneRepublic', 'Sara', 'F', '55', 'Johnson', '224.67873', 'paid', 'Winston-Salem, NC', '152', 'Secrets', '95']\n",
      "['Gilberto Santa Rosa', 'Sara', 'F', '56', 'Johnson', '272.16934', 'paid', 'Winston-Salem, NC', '152', 'La Sigo Amando Tanto', '95']\n",
      "['Eric Clapton', 'Sara', 'F', '57', 'Johnson', '271.80363', 'paid', 'Winston-Salem, NC', '152', 'Tears In Heaven', '95']\n",
      "['ARRESTED DEVELOPMENT', 'Sara', 'F', '58', 'Johnson', '200.98567', 'paid', 'Winston-Salem, NC', '152', 'Fountain Of Youth', '95']\n",
      "['Future Rock', 'Sara', 'F', '60', 'Johnson', '239.90812', 'paid', 'Winston-Salem, NC', '152', 'Gears', '95']\n",
      "['Steppenwolf', 'Sara', 'F', '61', 'Johnson', '208.14322', 'paid', 'Winston-Salem, NC', '152', 'Born To Be Wild', '95']\n",
      "['Jason Mraz & Colbie Caillat', 'Sara', 'F', '62', 'Johnson', '189.6224', 'paid', 'Winston-Salem, NC', '152', 'Lucky (Album Version)', '95']\n",
      "['Leonard Cohen', 'Sara', 'F', '63', 'Johnson', '298.57914', 'paid', 'Winston-Salem, NC', '152', 'The Stranger Song', '95']\n",
      "['Bright Eyes', 'Ayla', 'F', '0', 'Johnson', '279.09179', 'free', 'Santa Rosa, CA', '135', \"Kathy with a K's Song\", '63']\n",
      "['The Smiths', 'Chloe', 'F', '1', 'Cuevas', '196.67546', 'free', 'San Francisco-Oakland-Hayward, CA', '195', 'The Boy With The Thorn In His Side', '49']\n",
      "['Quique Gonzalez', 'Chloe', 'F', '2', 'Cuevas', '214.20363', 'free', 'San Francisco-Oakland-Hayward, CA', '195', 'Cuando Eramos Reyes', '49']\n",
      "['Muse', 'Chloe', 'F', '3', 'Cuevas', '210.46812', 'free', 'San Francisco-Oakland-Hayward, CA', '195', 'Pink Ego Box', '49']\n",
      "['Sugarland', 'Cecilia', 'F', '0', 'Owens', '247.77098', 'free', 'Atlanta-Sandy Springs-Roswell, GA', '5', 'Just Might (Make Me Believe)', '6']\n",
      "['A Hope For Home', 'Cecilia', 'F', '1', 'Owens', '388.38812', 'free', 'Atlanta-Sandy Springs-Roswell, GA', '5', 'Absolution: Of Flight and Failure', '6']\n",
      "['N.E.R.D. FEATURING MALICE', 'Jayden', 'M', '0', 'Fox', '288.9922', 'free', 'New Orleans-Metairie, LA', '184', 'Am I High (Feat. Malice)', '101']\n",
      "['Death Cab for Cutie', 'Stefany', 'F', '1', 'White', '216.42404', 'free', 'Lubbock, TX', '82', 'A Lack Of Color (Album Version)', '83']\n",
      "['Tracy Gang Pussy', 'Stefany', 'F', '2', 'White', '221.33506', 'free', 'Lubbock, TX', '82', 'I Have A Wish', '83']\n",
      "['Skillet', 'Kevin', 'M', '0', 'Arellano', '178.02404', 'free', 'Harrisburg-Carlisle, PA', '153', 'Monster (Album Version)', '66']\n",
      "['Dance Gavin Dance', 'Marina', 'F', '0', 'Sutton', '218.46159', 'free', 'Salinas, CA', '47', 'Uneasy Hearts Weigh The Most', '48']\n",
      "['Dalto', 'Aiden', 'M', '1', 'Hess', '190.40608', 'free', 'La Crosse-Onalaska, WI-MN', '170', 'Falta Te Dizer', '86']\n",
      "['Kanye West', 'Makinley', 'F', '0', 'Jones', '278.88281', 'free', 'Chicago-Naperville-Elgin, IL-IN-WI', '118', 'Family Business', '17']\n",
      "['Jason Mraz & Colbie Caillat', 'Kevin', 'M', '0', 'Arellano', '189.6224', 'free', 'Harrisburg-Carlisle, PA', '187', 'Lucky (Album Version)', '66']\n",
      "['Liz Callaway', 'Lily', 'F', '0', 'Koch', '175.43791', 'paid', 'Chicago-Naperville-Elgin, IL-IN-WI', '172', 'Journey To The Past  (LP Version)', '15']\n",
      "['The Decemberists', 'Lily', 'F', '1', 'Koch', '242.59873', 'paid', 'Chicago-Naperville-Elgin, IL-IN-WI', '172', 'Everything I Try to Do_ Nothing Seems to Turn Out Right', '15']\n",
      "['Christina Aguilera', 'Lily', 'F', '2', 'Koch', '254.48444', 'paid', 'Chicago-Naperville-Elgin, IL-IN-WI', '172', 'Impossible', '15']\n",
      "['OneRepublic', 'Lily', 'F', '3', 'Koch', '224.67873', 'paid', 'Chicago-Naperville-Elgin, IL-IN-WI', '172', 'Secrets', '15']\n",
      "['Cat Stevens', 'Kynnedi', 'F', '1', 'Sanchez', '200.202', 'free', 'Cedar Rapids, IA', '88', 'Wild World', '89']\n",
      "['Brett Dennen', 'Lily', 'F', '4', 'Koch', '179.66975', 'paid', 'Chicago-Naperville-Elgin, IL-IN-WI', '172', 'World Keeps Turning', '15']\n",
      "['Godsmack', 'Lily', 'F', '5', 'Koch', '208.24771', 'paid', 'Chicago-Naperville-Elgin, IL-IN-WI', '172', 'Greed', '15']\n",
      "['Anis', 'Lily', 'F', '6', 'Koch', '246.59546', 'paid', 'Chicago-Naperville-Elgin, IL-IN-WI', '172', 'Swing Javanaise', '15']\n",
      "['Tiziano Ferro', 'Lily', 'F', '7', 'Koch', '251.42812', 'paid', 'Chicago-Naperville-Elgin, IL-IN-WI', '172', 'Ed Ero Contentissimo', '15']\n",
      "['Kylie Auldist', 'Lily', 'F', '8', 'Koch', '265.92608', 'paid', 'Chicago-Naperville-Elgin, IL-IN-WI', '172', 'Ship Inside A Bottle', '15']\n",
      "['Benga', 'Lily', 'F', '9', 'Koch', '286.17098', 'paid', 'Chicago-Naperville-Elgin, IL-IN-WI', '172', 'The Cut', '15']\n",
      "['T. Rex', 'Lily', 'F', '10', 'Koch', '132.85832', 'paid', 'Chicago-Naperville-Elgin, IL-IN-WI', '172', 'Ride A White Swan', '15']\n",
      "['Mexican Institute of Sound', 'Lily', 'F', '11', 'Koch', '278.04689', 'paid', 'Chicago-Naperville-Elgin, IL-IN-WI', '172', 'Mirando a Las Muchachas', '15']\n",
      "['Velour 100', 'Lily', 'F', '12', 'Koch', '202.29179', 'paid', 'Chicago-Naperville-Elgin, IL-IN-WI', '172', 'Clouds (Of Color Bright Album Version)', '15']\n",
      "['Maria de Barros', 'Lily', 'F', '13', 'Koch', '276.29669', 'paid', 'Chicago-Naperville-Elgin, IL-IN-WI', '172', 'Riberonzinha', '15']\n",
      "['Toby Keith', 'Lily', 'F', '14', 'Koch', '177.162', 'paid', 'Chicago-Naperville-Elgin, IL-IN-WI', '172', 'Big Blue Note', '15']\n",
      "['Marques Houston', 'Lily', 'F', '15', 'Koch', '264.98567', 'paid', 'Chicago-Naperville-Elgin, IL-IN-WI', '172', 'Naked', '15']\n",
      "['Commit Suicide', 'Lily', 'F', '16', 'Koch', '105.482', 'paid', 'Chicago-Naperville-Elgin, IL-IN-WI', '172', 'In All This Revelation', '15']\n",
      "['Smile Empty Soul', 'Lily', 'F', '17', 'Koch', '218.61832', 'paid', 'Chicago-Naperville-Elgin, IL-IN-WI', '172', 'Bottom of a Bottle (Explicit Album Version)', '15']\n",
      "['Amy Winehouse', 'Lily', 'F', '18', 'Koch', '221.1522', 'paid', 'Chicago-Naperville-Elgin, IL-IN-WI', '172', 'Wake Up Alone', '15']\n",
      "['Eyehategod', 'Lily', 'F', '19', 'Koch', '155.66322', 'paid', 'Chicago-Naperville-Elgin, IL-IN-WI', '172', 'Sisterfucker (part Ii)', '15']\n",
      "['Sunidhi Chauhan / Anu Malik / Jatin Sharma', 'Lily', 'F', '20', 'Koch', '319.32036', 'paid', 'Chicago-Naperville-Elgin, IL-IN-WI', '172', 'Dekh Le', '15']\n",
      "['Blondie', 'Lily', 'F', '21', 'Koch', '127.73832', 'paid', 'Chicago-Naperville-Elgin, IL-IN-WI', '172', 'Little Girl Lies (2001 Digital Remaster)', '15']\n",
      "['She & Him', 'Lily', 'F', '23', 'Koch', '167.83628', 'paid', 'Chicago-Naperville-Elgin, IL-IN-WI', '172', 'Got Me', '15']\n",
      "['The Black Keys', 'Lily', 'F', '24', 'Koch', '294.76526', 'paid', 'Chicago-Naperville-Elgin, IL-IN-WI', '172', 'The Lengths', '15']\n",
      "['Survivor', 'Lily', 'F', '25', 'Koch', '245.36771', 'paid', 'Chicago-Naperville-Elgin, IL-IN-WI', '172', 'Eye Of The Tiger', '15']\n",
      "['Conya Doss', 'Lily', 'F', '26', 'Koch', '317.98812', 'paid', 'Chicago-Naperville-Elgin, IL-IN-WI', '172', 'I Miss You', '15']\n",
      "['Disney Studio Chorus', 'Lily', 'F', '28', 'Koch', '234.84036', 'paid', 'Chicago-Naperville-Elgin, IL-IN-WI', '172', 'Little April Shower', '15']\n",
      "['Dirty Projectors', 'Lily', 'F', '29', 'Koch', '319.63383', 'paid', 'Chicago-Naperville-Elgin, IL-IN-WI', '172', 'Stillness Is The Move', '15']\n",
      "['Boom Bip', 'Lily', 'F', '30', 'Koch', '330.16118', 'paid', 'Chicago-Naperville-Elgin, IL-IN-WI', '172', 'From Left To Right', '15']\n",
      "['Avantasia', 'Lily', 'F', '31', 'Koch', '368.97914', 'paid', 'Chicago-Naperville-Elgin, IL-IN-WI', '172', 'Shelter From The Rain', '15']\n",
      "['Amon Amarth', 'Lily', 'F', '32', 'Koch', '312.29342', 'paid', 'Chicago-Naperville-Elgin, IL-IN-WI', '172', 'North Sea Storm (Live)', '15']\n",
      "['Young Money featuring Lloyd', 'Lily', 'F', '33', 'Koch', '196.33587', 'paid', 'Chicago-Naperville-Elgin, IL-IN-WI', '172', 'BedRock (Radio Edit) (feat.Lloyd)', '15']\n",
      "['Breakbeat Era', 'Lily', 'F', '34', 'Koch', '326.32118', 'paid', 'Chicago-Naperville-Elgin, IL-IN-WI', '172', 'Anti-Everything', '15']\n",
      "['Local Natives', 'Lily', 'F', '35', 'Koch', '237.92281', 'paid', 'Chicago-Naperville-Elgin, IL-IN-WI', '172', 'Airplanes', '15']\n",
      "['Gabriella Cilmi', 'Lily', 'F', '36', 'Koch', '207.38567', 'paid', 'Chicago-Naperville-Elgin, IL-IN-WI', '172', 'Awkward Game', '15']\n",
      "['Minus The Bear', 'Tegan', 'F', '1', 'Levine', '219.76771', 'free', 'Portland-South Portland, ME', '165', 'Knights', '80']\n",
      "['Calle 13 Featuring CafÃ\\x83Â© Tacuba', 'Lily', 'F', '37', 'Koch', '293.32853', 'paid', 'Chicago-Naperville-Elgin, IL-IN-WI', '172', 'No Hay Nadie Como TÃ\\x83Âº', '15']\n",
      "['Frumpies', 'Aleena', 'F', '0', 'Kirby', '134.47791', 'paid', 'Waterloo-Cedar Falls, IA', '157', 'Fuck Kitty', '44']\n",
      "['D-12', 'Aleena', 'F', '1', 'Kirby', '261.40689', 'paid', 'Waterloo-Cedar Falls, IA', '157', 'Barbershop', '44']\n",
      "['Emil Gilels/Orchestre de la SociÃ\\x83Â©tÃ\\x83Â© des Concerts du Conservatoire/AndrÃ\\x83Â© Cluytens', 'Tegan', 'F', '2', 'Levine', '375.19628', 'free', 'Portland-South Portland, ME', '165', 'Piano Concerto No. 2 in G minor Op. 22 (2006 Digital Remaster): III.  Presto', '80']\n",
      "['Dragonette', 'Lily', 'F', '38', 'Koch', '246.49098', 'paid', 'Chicago-Naperville-Elgin, IL-IN-WI', '172', 'Fixin to Thrill', '15']\n",
      "['Pennywise', 'Mohammad', 'M', '0', 'Rodriguez', '188.26404', 'free', 'Sacramento--Roseville--Arden-Arcade, CA', '87', 'The Western World', '88']\n",
      "['Kanye West', 'Aleena', 'F', '2', 'Kirby', '238.52363', 'paid', 'Waterloo-Cedar Falls, IA', '157', 'Flashing Lights', '44']\n",
      "['Flash And The Pan', 'Lily', 'F', '39', 'Koch', '224.65261', 'paid', 'Chicago-Naperville-Elgin, IL-IN-WI', '172', 'Waiting for a Train [Single Mix]', '15']\n",
      "['Washed Out', 'Tegan', 'F', '3', 'Levine', '168.6722', 'free', 'Portland-South Portland, ME', '165', 'New Theory', '80']\n",
      "['Katy Perry', 'Aleena', 'F', '3', 'Kirby', '179.40853', 'paid', 'Waterloo-Cedar Falls, IA', '157', 'I Kissed A Girl', '44']\n",
      "['AFI', 'Lily', 'F', '40', 'Koch', '198.97424', 'paid', 'Chicago-Naperville-Elgin, IL-IN-WI', '172', 'Miss Murder', '15']\n",
      "['Drake / Kanye West / Lil Wayne / Eminem', 'Aleena', 'F', '4', 'Kirby', '357.66812', 'paid', 'Waterloo-Cedar Falls, IA', '157', 'Forever', '44']\n",
      "['The Crests', 'Lily', 'F', '41', 'Koch', '182.88281', 'paid', 'Chicago-Naperville-Elgin, IL-IN-WI', '172', '16 Candles', '15']\n",
      "['Nirvana', 'Lily', 'F', '42', 'Koch', '219.08853', 'paid', 'Chicago-Naperville-Elgin, IL-IN-WI', '172', 'Come As You Are', '15']\n",
      "['Knights Of The Abyss', 'Aleena', 'F', '5', 'Kirby', '205.66159', 'paid', 'Waterloo-Cedar Falls, IA', '157', 'Dragon Pie', '44']\n",
      "['Binary Star', 'Lily', 'F', '43', 'Koch', '300.19873', 'paid', 'Chicago-Naperville-Elgin, IL-IN-WI', '172', 'Honest Expression', '15']\n",
      "['Nada Surf', 'Aleena', 'F', '6', 'Kirby', '181.08036', 'paid', 'Waterloo-Cedar Falls, IA', '157', 'Whose Authority', '44']\n",
      "['Blank & Jones', 'Aleena', 'F', '7', 'Kirby', '310.15138', 'paid', 'Waterloo-Cedar Falls, IA', '157', 'Beyond Time (Ambient Mix)', '44']\n",
      "['Carnifex', 'Lily', 'F', '44', 'Koch', '219.89832', 'paid', 'Chicago-Naperville-Elgin, IL-IN-WI', '172', 'By Darkness Enslaved', '15']\n",
      "['Bono / Secret Machines', 'Lily', 'F', '45', 'Koch', '285.43955', 'paid', 'Chicago-Naperville-Elgin, IL-IN-WI', '172', 'I Am The Walrus', '15']\n",
      "['Broadcast 2000', 'Aleena', 'F', '8', 'Kirby', '198.84363', 'paid', 'Waterloo-Cedar Falls, IA', '157', 'The View', '44']\n",
      "['Pixies', 'Aleena', 'F', '9', 'Kirby', '229.3024', 'paid', 'Waterloo-Cedar Falls, IA', '157', 'Where Is My Mind?', '44']\n",
      "['Kings Of Leon', 'Lily', 'F', '46', 'Koch', '242.99057', 'paid', 'Chicago-Naperville-Elgin, IL-IN-WI', '172', 'Holy Roller Novocaine', '15']\n",
      "['Arctic Monkeys', 'Aleena', 'F', '10', 'Kirby', '221.85751', 'paid', 'Waterloo-Cedar Falls, IA', '157', \"You Know I'm No Good\", '44']\n",
      "['Alliance Ethnik', 'Lily', 'F', '47', 'Koch', '252.21179', 'paid', 'Chicago-Naperville-Elgin, IL-IN-WI', '172', 'ReprÃ\\x83Â©sente', '15']\n",
      "['Apocalyptica', 'Chloe', 'F', '0', 'Cuevas', '409.86077', 'free', 'San Francisco-Oakland-Hayward, CA', '179', 'Coma', '49']\n",
      "['Big Tymers', 'Aleena', 'F', '11', 'Kirby', '256.15628', 'paid', 'Waterloo-Cedar Falls, IA', '157', 'Lil Mama', '44']\n",
      "['Pat Green', 'Lily', 'F', '48', 'Koch', '295.33995', 'paid', 'Chicago-Naperville-Elgin, IL-IN-WI', '172', 'Whiskey', '15']\n",
      "['Daughtry', 'Aleena', 'F', '12', 'Kirby', '249.91302', 'paid', 'Waterloo-Cedar Falls, IA', '157', 'No Surprise', '44']\n",
      "['Air', 'Chloe', 'F', '1', 'Cuevas', '212.21832', 'free', 'San Francisco-Oakland-Hayward, CA', '179', 'Playground Love', '49']\n",
      "['Sam Cooke', 'Lily', 'F', '49', 'Koch', '122.04363', 'paid', 'Chicago-Naperville-Elgin, IL-IN-WI', '172', \"Ain't Misbehavin\", '15']\n",
      "['Live', 'Aleena', 'F', '13', 'Kirby', '203.28444', 'paid', 'Waterloo-Cedar Falls, IA', '157', 'Deep Enough', '44']\n",
      "['Everclear', 'Lily', 'F', '50', 'Koch', '222.61506', 'paid', 'Chicago-Naperville-Elgin, IL-IN-WI', '172', 'Summerland', '15']\n",
      "['Alison Krauss / Union Station', 'Aleena', 'F', '14', 'Kirby', '129.67138', 'paid', 'Waterloo-Cedar Falls, IA', '157', 'Down To The River To Pray', '44']\n",
      "['The All-American Rejects', 'Lily', 'F', '51', 'Koch', '239.22893', 'paid', 'Chicago-Naperville-Elgin, IL-IN-WI', '172', 'Move Along', '15']\n",
      "['Covenant', 'Aleena', 'F', '15', 'Kirby', '300.19873', 'paid', 'Waterloo-Cedar Falls, IA', '157', 'XRDS', '44']\n",
      "['You Me At Six', 'Aiden', 'M', '0', 'Hess', '191.13751', 'free', 'La Crosse-Onalaska, WI-MN', '189', 'Liquid Confidence', '86']\n",
      "['Motion City Soundtrack', 'Lily', 'F', '52', 'Koch', '206.34077', 'paid', 'Chicago-Naperville-Elgin, IL-IN-WI', '172', 'Everything Is Alright (Album Version)', '15']\n",
      "['FM Static', 'Lily', 'F', '53', 'Koch', '169.84771', 'paid', 'Chicago-Naperville-Elgin, IL-IN-WI', '172', 'Something To Believe In', '15']\n",
      "['Dave Gahan', 'Lily', 'F', '54', 'Koch', '272.92689', 'paid', 'Chicago-Naperville-Elgin, IL-IN-WI', '172', 'Kingdom', '15']\n",
      "['Metallica', 'Lily', 'F', '55', 'Koch', '319.73832', 'paid', 'Chicago-Naperville-Elgin, IL-IN-WI', '172', 'Mama Said', '15']\n",
      "['Dr. Hook', 'Lily', 'F', '56', 'Koch', '229.77261', 'paid', 'Chicago-Naperville-Elgin, IL-IN-WI', '172', \"Sylvia's Mother\", '15']\n",
      "['Gotan Project', 'Lily', 'F', '57', 'Koch', '321.30567', 'paid', 'Chicago-Naperville-Elgin, IL-IN-WI', '172', 'Diferente', '15']\n",
      "['Carrie Underwood', 'Lily', 'F', '58', 'Koch', '221.3873', 'paid', 'Chicago-Naperville-Elgin, IL-IN-WI', '172', 'Play On', '15']\n",
      "['Ut', 'Lily', 'F', '59', 'Koch', '313.86077', 'paid', 'Chicago-Naperville-Elgin, IL-IN-WI', '172', 'I.D.', '15']\n",
      "['Lil Wayne / Eminem', 'Lily', 'F', '60', 'Koch', '229.58975', 'paid', 'Chicago-Naperville-Elgin, IL-IN-WI', '172', 'Drop The World', '15']\n",
      "['Damage', 'Lily', 'F', '61', 'Koch', '263.18322', 'paid', 'Chicago-Naperville-Elgin, IL-IN-WI', '172', 'For Your Pleasure', '15']\n",
      "['Rionegro / SolimÃ\\x83Âµes', 'Lily', 'F', '62', 'Koch', '280.92036', 'paid', 'Chicago-Naperville-Elgin, IL-IN-WI', '172', 'De SÃ\\x83Â£o Paulo Ã\\x83Â\\x80 BelÃ\\x83Â©m', '15']\n",
      "['Drive-By Truckers', 'Lily', 'F', '63', 'Koch', '246.22975', 'paid', 'Chicago-Naperville-Elgin, IL-IN-WI', '172', 'Outfit', '15']\n",
      "['Tweet', 'Lily', 'F', '64', 'Koch', '256.39138', 'paid', 'Chicago-Naperville-Elgin, IL-IN-WI', '172', 'Smoking Cigarettes (LP Version)', '15']\n",
      "['Ben Folds Five', 'Lily', 'F', '65', 'Koch', '207.882', 'paid', 'Chicago-Naperville-Elgin, IL-IN-WI', '172', \"Steven's Last Night In Town\", '15']\n",
      "['Glen Hansard', 'Lily', 'F', '66', 'Koch', '239.59465', 'paid', 'Chicago-Naperville-Elgin, IL-IN-WI', '172', 'Lies', '15']\n",
      "['Chevelle', 'Adler', 'M', '0', 'Barrera', '389.85098', 'free', 'New York-Newark-Jersey City, NY-NJ-PA', '174', 'Dos (LP Version)', '100']\n",
      "['Bill Withers', 'Lily', 'F', '67', 'Koch', '383.73832', 'paid', 'Chicago-Naperville-Elgin, IL-IN-WI', '172', 'Make Love To Your Mind', '15']\n",
      "['Jorge Drexler', 'Adler', 'M', '1', 'Barrera', '272.14322', 'free', 'New York-Newark-Jersey City, NY-NJ-PA', '174', 'Salvapantallas', '100']\n",
      "['Michael Bolton', 'Lily', 'F', '68', 'Koch', '255.65995', 'paid', 'Chicago-Naperville-Elgin, IL-IN-WI', '172', 'How Am I Supposed To Live Without You', '15']\n",
      "['The Mercury Program', 'Adler', 'M', '2', 'Barrera', '449.12281', 'free', 'New York-Newark-Jersey City, NY-NJ-PA', '174', 'Marianas', '100']\n",
      "['Duran Duran', 'Lily', 'F', '69', 'Koch', '321.88036', 'paid', 'Chicago-Naperville-Elgin, IL-IN-WI', '172', 'The Seventh Stranger', '15']\n",
      "['Little Boots', 'Lily', 'F', '70', 'Koch', '195.94404', 'paid', 'Chicago-Naperville-Elgin, IL-IN-WI', '172', 'Meddle', '15']\n",
      "['Johnossi', 'Lily', 'F', '71', 'Koch', '174.2624', 'paid', 'Chicago-Naperville-Elgin, IL-IN-WI', '172', 'Glory Days To Come', '15']\n",
      "['BjÃ\\x83Â¶rk', 'Lily', 'F', '72', 'Koch', '348.57751', 'paid', 'Chicago-Naperville-Elgin, IL-IN-WI', '172', 'Undo', '15']\n",
      "['Black Eyed Peas', 'Lily', 'F', '73', 'Koch', '226.37669', 'paid', 'Chicago-Naperville-Elgin, IL-IN-WI', '172', 'Hey Mama', '15']\n",
      "['DecembeRadio', 'Lily', 'F', '74', 'Koch', '249.62567', 'paid', 'Chicago-Naperville-Elgin, IL-IN-WI', '172', 'Find You Waiting', '15']\n",
      "['Bonobo', 'Lily', 'F', '75', 'Koch', '270.41914', 'paid', 'Chicago-Naperville-Elgin, IL-IN-WI', '172', '1009', '15']\n",
      "['Five Iron Frenzy', 'Tegan', 'F', '1', 'Levine', '236.09424', 'free', 'Portland-South Portland, ME', '194', 'Canada', '80']\n",
      "['Morcheeba', 'Tegan', 'F', '2', 'Levine', '347.71546', 'free', 'Portland-South Portland, ME', '194', 'The Sea', '80']\n",
      "['The Avett Brothers', 'Tegan', 'F', '3', 'Levine', '307.9571', 'free', 'Portland-South Portland, ME', '194', 'All My Mistakes (US4BW0700133)', '80']\n",
      "['Dave Darell', 'Aiden', 'M', '0', 'Hess', '217.33832', 'free', 'La Crosse-Onalaska, WI-MN', '197', 'Children', '86']\n",
      "['Priestess', 'Ryan', 'M', '1', 'Smith', '190.45832', 'free', 'San Jose-Sunnyvale-Santa Clara, CA', '183', 'Talk To Her', '26']\n",
      "['Arcade Fire', 'Ryan', 'M', '2', 'Smith', '169.19465', 'free', 'San Jose-Sunnyvale-Santa Clara, CA', '183', \"I'm Sleeping In A Submarine\", '26']\n",
      "['Daft Punk', 'Ryan', 'M', '3', 'Smith', '211.69587', 'free', 'San Jose-Sunnyvale-Santa Clara, CA', '183', 'Crescendolls', '26']\n",
      "['Nickel Creek', 'Ryan', 'M', '4', 'Smith', '255.13751', 'free', 'San Jose-Sunnyvale-Santa Clara, CA', '183', 'When In Rome', '26']\n",
      "['Squeeze', 'Ryan', 'M', '5', 'Smith', '229.56363', 'free', 'San Jose-Sunnyvale-Santa Clara, CA', '183', 'Footprints', '26']\n",
      "['Creedence Clearwater Revival', 'Samuel', 'M', '0', 'Gonzalez', '175.80363', 'free', 'Houston-The Woodlands-Sugar Land, TX', '60', 'Sweet Hitch-Hiker', '61']\n",
      "['Kierra Sheard', 'Samuel', 'M', '1', 'Gonzalez', '299.02322', 'free', 'Houston-The Woodlands-Sugar Land, TX', '60', 'Love Like Crazy (Extended Mix)', '61']\n",
      "['Greg Laswell', 'Mohammad', 'M', '1', 'Rodriguez', '251.08853', 'free', 'Sacramento--Roseville--Arden-Arcade, CA', '193', 'Comes And Goes ( In Waves )', '88']\n",
      "['Pavement', 'Mohammad', 'M', '3', 'Rodriguez', '99.16036', 'free', 'Sacramento--Roseville--Arden-Arcade, CA', '193', 'Mercy:The Laundromat', '88']\n",
      "['Sixx A.M.', 'Mohammad', 'M', '4', 'Rodriguez', '280.58077', 'free', 'Sacramento--Roseville--Arden-Arcade, CA', '193', 'Courtesy Call (Explicit)', '88']\n",
      "['Leonard Cohen', 'Mohammad', 'M', '5', 'Rodriguez', '267.67628', 'free', 'Sacramento--Roseville--Arden-Arcade, CA', '193', \"I'm Your Man\", '88']\n",
      "['The Tallest Man On Earth', 'Joseph', 'M', '0', 'Gutierrez', '203.62404', 'free', 'Columbia, SC', '167', 'The Wild Hunt', '75']\n",
      "['My Chemical Romance', 'Joseph', 'M', '1', 'Gutierrez', '161.90649', 'free', 'Columbia, SC', '167', 'Teenagers (Album Version)', '75']\n",
      "['Wendy Rene', 'Joseph', 'M', '2', 'Gutierrez', '182.46485', 'free', 'Columbia, SC', '167', 'After Laughter (Comes Tears) (LP Version)', '75']\n",
      "['Jack Johnson / Paula Fuga', 'Joseph', 'M', '3', 'Gutierrez', '178.33751', 'free', 'Columbia, SC', '167', 'Country Road', '75']\n",
      "['Tub Ring', 'Joseph', 'M', '4', 'Gutierrez', '233.69098', 'free', 'Columbia, SC', '167', 'Invalid', '75']\n",
      "['No Doubt', 'Mohammad', 'M', '0', 'Rodriguez', '44.93016', 'free', 'Sacramento--Roseville--Arden-Arcade, CA', '205', 'BND', '88']\n",
      "['Katy Perry', 'Mohammad', 'M', '1', 'Rodriguez', '179.40853', 'free', 'Sacramento--Roseville--Arden-Arcade, CA', '205', 'I Kissed A Girl', '88']\n",
      "['Neutral Milk Hotel', 'Joseph', 'M', '5', 'Gutierrez', '248.37179', 'free', 'Columbia, SC', '167', 'Ghost', '75']\n",
      "['Dwight Yoakam', 'Ava', 'F', '0', 'Robinson', '239.3073', 'free', 'New Haven-Milford, CT', '156', \"You're The One\", '50']\n",
      "['Ella Fitzgerald', 'Joseph', 'M', '6', 'Gutierrez', '427.15383', 'free', 'Columbia, SC', '167', 'On Green Dolphin Street (Medley) (1999 Digital Remaster)', '75']\n",
      "['Tony Rohr', 'Ava', 'F', '1', 'Robinson', '403.09506', 'free', 'New Haven-Milford, CT', '156', 'Van Comp', '50']\n",
      "['Braid', 'Joseph', 'M', '7', 'Gutierrez', '222.74567', 'free', 'Columbia, SC', '167', 'Divers', '75']\n",
      "['Fourmost', 'Joseph', 'M', '8', 'Gutierrez', '113.6322', 'free', 'Columbia, SC', '167', 'Hello Little Girl', '75']\n",
      "['Catupecu Machu', 'Joseph', 'M', '9', 'Gutierrez', '212.32281', 'free', 'Columbia, SC', '167', 'Hormigas', '75']\n",
      "['Creed', 'Joseph', 'M', '10', 'Gutierrez', '329.87383', 'free', 'Columbia, SC', '167', 'Weathered', '75']\n",
      "['Ennio Morricone', 'Joseph', 'M', '11', 'Gutierrez', '215.01342', 'free', 'Columbia, SC', '167', 'Chi Mai (El Profesional)', '75']\n",
      "['Down To The Bone', 'Sylvie', 'F', '0', 'Cruz', '333.76608', 'free', 'Washington-Arlington-Alexandria, DC-VA-MD-WV', '182', \"Keep On Keepin' On\", '10']\n",
      "['Three Drives', 'Sylvie', 'F', '1', 'Cruz', '411.6371', 'free', 'Washington-Arlington-Alexandria, DC-VA-MD-WV', '182', 'Greece 2000', '10']\n",
      "['Sebastien Tellier', 'Sylvie', 'F', '2', 'Cruz', '377.73016', 'free', 'Washington-Arlington-Alexandria, DC-VA-MD-WV', '182', 'Kilometer', '10']\n",
      "['Lonnie Gordon', 'Sylvie', 'F', '3', 'Cruz', '181.21098', 'free', 'Washington-Arlington-Alexandria, DC-VA-MD-WV', '182', 'Catch You Baby (Steve Pitron & Max Sanna Radio Edit)', '10']\n",
      "['Charttraxx Karaoke', 'Ava', 'F', '0', 'Robinson', '225.17506', 'free', 'New Haven-Milford, CT', '207', 'Fireflies', '50']\n",
      "['Ska-P', 'Ava', 'F', '1', 'Robinson', '220.21179', 'free', 'New Haven-Milford, CT', '207', 'NiÃ\\x83Â±o Soldado', '50']\n",
      "['Dwight Yoakam', 'Ava', 'F', '2', 'Robinson', '239.3073', 'free', 'New Haven-Milford, CT', '207', \"You're The One\", '50']\n",
      "['Radiohead', 'Ayleen', 'F', '0', 'Wise', '130.82077', 'free', 'Columbia, SC', '70', 'Pop Is Dead', '71']\n",
      "['Scouting for Girls', 'Ayleen', 'F', '1', 'Wise', '201.1424', 'free', 'Columbia, SC', '70', 'The Mountains Of Navaho', '71']\n",
      "['Alliance Ethnik', 'Ayleen', 'F', '2', 'Wise', '195.94404', 'free', 'Columbia, SC', '70', 'SinceritÃ\\x83Â© Et Jalousie', '71']\n",
      "['OutKast', 'Ayleen', 'F', '3', 'Wise', '227.52608', 'free', 'Columbia, SC', '70', 'Ova Da Wudz', '71']\n",
      "['Bloodhound Gang', 'Kaleb', 'M', '0', 'Cook', '260.20526', 'free', 'Yuba City, CA', '53', 'Uhn Tiss Uhn Tiss Uhn Tiss', '54']\n",
      "['Rammstein', 'Isaac', 'M', '0', 'Valdez', '228.46649', 'free', 'Saginaw, MI', '112', 'Adios', '3']\n",
      "['Gershon Kingsley', 'Isaac', 'M', '1', 'Valdez', '146.57261', 'free', 'Saginaw, MI', '112', 'Pop Corn', '3']\n",
      "['The Rakes', 'Isaac', 'M', '2', 'Valdez', '150.59546', 'free', 'Saginaw, MI', '112', 'Strasbourg', '3']\n",
      "[\"Des'ree\", 'Kaylee', 'F', '1', 'Summers', '246.30812', 'free', 'Phoenix-Mesa-Scottsdale, AZ', '139', 'You Gotta Be', '8']\n",
      "['Mr Oizo', 'Kaylee', 'F', '3', 'Summers', '144.03873', 'free', 'Phoenix-Mesa-Scottsdale, AZ', '139', 'Flat 55', '8']\n",
      "['Tamba Trio', 'Kaylee', 'F', '4', 'Summers', '177.18812', 'free', 'Phoenix-Mesa-Scottsdale, AZ', '139', 'Quem Quiser Encontrar O Amor', '8']\n",
      "['The Mars Volta', 'Kaylee', 'F', '5', 'Summers', '380.42077', 'free', 'Phoenix-Mesa-Scottsdale, AZ', '139', 'Eriatarka', '8']\n",
      "['Infected Mushroom', 'Kaylee', 'F', '6', 'Summers', '440.2673', 'free', 'Phoenix-Mesa-Scottsdale, AZ', '139', 'Becoming Insane', '8']\n",
      "['Blue October / Imogen Heap', 'Kaylee', 'F', '7', 'Summers', '241.3971', 'free', 'Phoenix-Mesa-Scottsdale, AZ', '139', 'Congratulations', '8']\n",
      "['Girl Talk', 'Kaylee', 'F', '8', 'Summers', '160.15628', 'free', 'Phoenix-Mesa-Scottsdale, AZ', '139', 'Once again', '8']\n",
      "['Black Eyed Peas', 'Sylvie', 'F', '0', 'Cruz', '214.93506', 'free', 'Washington-Arlington-Alexandria, DC-VA-MD-WV', '9', 'Pump It', '10']\n",
      "['Fall Out Boy', 'Ryan', 'M', '1', 'Smith', '200.72444', 'free', 'San Jose-Sunnyvale-Santa Clara, CA', '169', 'Nobody Puts Baby In The Corner', '26']\n",
      "['M.I.A.', 'Ryan', 'M', '2', 'Smith', '233.7171', 'free', 'San Jose-Sunnyvale-Santa Clara, CA', '169', 'Mango Pickle Down River (With The Wilcannia Mob)', '26']\n",
      "['Survivor', 'Jayden', 'M', '0', 'Fox', '245.36771', 'free', 'New Orleans-Metairie, LA', '100', 'Eye Of The Tiger', '101']\n"
     ]
    }
   ],
   "source": [
    "# We have provided part of the code to set up the CSV file. Please complete the Apache Cassandra code below#\n",
    "file = 'event_datafile_new.csv'\n",
    "\n",
    "with open(file, encoding = 'utf8') as f:\n",
    "    csvreader = csv.reader(f)\n",
    "    next(csvreader) # skip header\n",
    "    for line in csvreader:\n",
    "## TO-DO: Assign the INSERT statements into the `query` variable\n",
    "        print(line)\n",
    "        query = \"INSERT INTO q1 (artist, firstName, song, length, sessionId, itemInSession)\"\n",
    "        query = query + \"VALUES (%s, %s, %s, %s, %s, %s)\"\n",
    "        ## TO-DO: Assign which column element should be assigned for each column in the INSERT statement.\n",
    "        ## For e.g., to INSERT artist_name and user first_name, you would change the code below to `line[0], line[1]`\n",
    "        session.execute(query, (line[0], line[1], line[9], line[5], line[8], line[3]))"
   ]
  },
  {
   "cell_type": "markdown",
   "metadata": {
    "editable": true
   },
   "source": [
    "#### Do a SELECT to verify that the data have been inserted into each table"
   ]
  },
  {
   "cell_type": "code",
   "execution_count": 55,
   "metadata": {
    "editable": true,
    "scrolled": true
   },
   "outputs": [],
   "source": [
    "#session.execute(\"DROP TABLE IF EXISTS q1\")\n",
    "## TO-DO: Add in the SELECT statement to verify the data was entered into the table\n",
    "result1 = session.execute(\"\"\"SELECT * FROM q1 WHERE sessionId = '338' AND itemInSession = '4'\"\"\")\n",
    "\n",
    "for result in result1:\n",
    "    print(result.artist)"
   ]
  },
  {
   "cell_type": "markdown",
   "metadata": {
    "editable": true
   },
   "source": [
    "### COPY AND REPEAT THE ABOVE THREE CELLS FOR EACH OF THE THREE QUESTIONS"
   ]
  },
  {
   "cell_type": "code",
   "execution_count": null,
   "metadata": {
    "editable": true
   },
   "outputs": [],
   "source": [
    "## TO-DO: Query 2: Give me only the following: name of artist, song (sorted by itemInSession) and user (first and last name)\\\n",
    "## for userid = 10, sessionid = 182\n",
    "\n",
    "\n",
    "                    "
   ]
  },
  {
   "cell_type": "code",
   "execution_count": null,
   "metadata": {
    "editable": true
   },
   "outputs": [],
   "source": [
    "## TO-DO: Query 3: Give me every user name (first and last) in my music app history who listened to the song 'All Hands Against His Own'\n",
    "\n",
    "\n",
    "                    "
   ]
  },
  {
   "cell_type": "code",
   "execution_count": null,
   "metadata": {
    "editable": true
   },
   "outputs": [],
   "source": []
  },
  {
   "cell_type": "code",
   "execution_count": null,
   "metadata": {
    "editable": true
   },
   "outputs": [],
   "source": []
  },
  {
   "cell_type": "markdown",
   "metadata": {
    "editable": true
   },
   "source": [
    "### Drop the tables before closing out the sessions"
   ]
  },
  {
   "cell_type": "code",
   "execution_count": 4,
   "metadata": {
    "editable": true
   },
   "outputs": [],
   "source": [
    "## TO-DO: Drop the table before closing out the sessions"
   ]
  },
  {
   "cell_type": "code",
   "execution_count": null,
   "metadata": {
    "editable": true
   },
   "outputs": [],
   "source": []
  },
  {
   "cell_type": "markdown",
   "metadata": {
    "editable": true
   },
   "source": [
    "### Close the session and cluster connection¶"
   ]
  },
  {
   "cell_type": "code",
   "execution_count": null,
   "metadata": {
    "editable": true
   },
   "outputs": [],
   "source": [
    "session.shutdown()\n",
    "cluster.shutdown()"
   ]
  },
  {
   "cell_type": "code",
   "execution_count": null,
   "metadata": {
    "editable": true
   },
   "outputs": [],
   "source": []
  },
  {
   "cell_type": "code",
   "execution_count": null,
   "metadata": {
    "editable": true
   },
   "outputs": [],
   "source": []
  }
 ],
 "metadata": {
  "kernelspec": {
   "display_name": "Python 3",
   "language": "python",
   "name": "python3"
  },
  "language_info": {
   "codemirror_mode": {
    "name": "ipython",
    "version": 3
   },
   "file_extension": ".py",
   "mimetype": "text/x-python",
   "name": "python",
   "nbconvert_exporter": "python",
   "pygments_lexer": "ipython3",
   "version": "3.6.3"
  }
 },
 "nbformat": 4,
 "nbformat_minor": 4
}
